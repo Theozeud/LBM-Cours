{
 "cells": [
  {
   "cell_type": "markdown",
   "metadata": {},
   "source": [
    "# Compte rendu de TP du 27/03 - Introduction LBM\n",
    "\n",
    "### Importation des librairies"
   ]
  },
  {
   "cell_type": "code",
   "execution_count": null,
   "metadata": {},
   "outputs": [],
   "source": [
    "using LinearAlgebra    # For matrix computations\n",
    "using Plots            # For plotting\n",
    "using LaTeXStrings     # For writing LaTeX in code\n",
    "using Interpolations   # For computing interpolation, useful for animation\n",
    "using BenchmarkTools   # For Evaluating the performance of our code"
   ]
  },
  {
   "cell_type": "code",
   "execution_count": null,
   "metadata": {},
   "outputs": [],
   "source": [
    "# Initialisation\n",
    "m_init(u₀::Vector, ϕ::Base.Callable) = transpose(hcat(u₀, equilibrium(u₀, ϕ)))\n",
    "f_init(m::AbstractMatrix, λ::Real) = m2f(m,λ)\n",
    "\n",
    "# Moment matrix\n",
    "M(λ::Real) = [1 1; -λ λ]\n",
    "Minv(λ::Real) = [0.5 -0.5*(1.0/λ); 0.5 0.5*(1.0/λ)]\n",
    "\n",
    "# Conversion to moment\n",
    "f2m(f::AbstractMatrix, λ::Real) = reduce(hcat, [M(λ) * f[:,i] for i in axes(f)[2]])\n",
    "m2f(m::AbstractMatrix, λ::Real) = reduce(hcat, [Minv(λ) * m[:,i] for i in axes(m)[2]])\n",
    "f2m!(m::AbstractMatrix, f::AbstractMatrix, λ::Real) = m .= reduce(hcat, [M(λ) * f[:,i] for i in axes(f)[2]])\n",
    "m2f!(f::AbstractMatrix, m::AbstractMatrix, λ::Real) = f .= reduce(hcat, [Minv(λ) * m[:,i] for i in axes(m)[2]])\n",
    "\n",
    "# Equilibrium\n",
    "equilibrium(m₀::Vector, ϕ::Base.Callable) = ϕ.(m₀)\n",
    "\n",
    "# Relaxation\n",
    "function relaxation!(m::AbstractMatrix, s₁::Real, ϕ::Base.Callable)\n",
    "    @inbounds m[1,:] .= m[1,:]\n",
    "    @inbounds m[2,:] .= m[2,:] .+ s₁ .* (equilibrium(m[1,:], ϕ) .- m[2,:])\n",
    "end\n",
    "\n",
    "# Streaming\n",
    "function streaming!(f::AbstractMatrix)\n",
    "    @inbounds f[1,:] .= circshift(f[1,:],-1)\n",
    "    @inbounds f[2,:] .= circshift(f[2,:], 1)\n",
    "end\n",
    "\n",
    "# Compute the dynamics\n",
    "function solve(u₀fun::Base.Callable, ϕ::Base.Callable; Nₜ::Int = -1, T::Real, Nₓ::Int, xmax::Real, xmin::Real, s::Real, λ::Real = -1)\n",
    "\n",
    "    # INPUTS\n",
    "    #   - u₀fun     : Function of space that gives the initial condition,\n",
    "    #   - ϕ         : Function related to the equation we want to simulate,\n",
    "    #   - Nₜ         : Number of timestep,\n",
    "    #   - T         : Endtime of the solution computed,\n",
    "    #   - Nₓ        : Number of point in the mesh\n",
    "    #   - xmax      : Right edge of the space domain,\n",
    "    #   - xmin      : Left edge of the space domain,\n",
    "    #   - s         : Parameter of relaxation  \n",
    "\n",
    "    # OUTPUTS\n",
    "    #   - A solution u through time on the domain [xmin,xmax]x[0,T] of the equation \n",
    "    #                       ∂ₜu + ∂ₓφ(u) = 0\n",
    "\n",
    "    # Parameters of the simulation\n",
    "    @assert max(Nₜ, λ) > 0\n",
    "    @assert min(Nₜ, λ) < 0\n",
    "\n",
    "    Δx = (xmax - xmin)/(Nₓ-1)\n",
    "    if λ > 0\n",
    "        _λ = λ\n",
    "        Δt = Δx/_λ\n",
    "        Nₜ = Int(round(T/Δt))\n",
    "        T = Δt * Nₜ\n",
    "    else \n",
    "        Δt = T/Nₜ\n",
    "        _λ = Δx/Δt\n",
    "    end\n",
    "   \n",
    "    # Mesh\n",
    "    mesh = LinRange(xmin,xmax,Nₓ)\n",
    "\n",
    "    # Initialisation \n",
    "    u₀ = u₀fun(mesh)\n",
    "    m = m_init(u₀, ϕ)\n",
    "    f = f_init(m, _λ)\n",
    "\n",
    "    # Storage for the solution\n",
    "    sol = zeros(Nₜ+1,Nₓ)\n",
    "    sol[1,:] = m[1,:]\n",
    "    \n",
    "    # Loop for each timestep\n",
    "    for i in 1:Nₜ\n",
    "        relaxation!(m, s, ϕ)\n",
    "        m2f!(f, m, _λ)\n",
    "        streaming!(f)\n",
    "        f2m!(m, f, _λ)\n",
    "        sol[i+1,:] =  m[1,:]\n",
    "    end\n",
    "    λ > 0 ? (sol,T) : sol\n",
    "end"
   ]
  },
  {
   "cell_type": "code",
   "execution_count": null,
   "metadata": {},
   "outputs": [],
   "source": [
    "function u_init(X::AbstractVector, reg::Int, middle::Real, swidth::Real)\n",
    "\n",
    "    # Parameters to localise the bump part\n",
    "    xmin, xmax = min(X...), max(X...)\n",
    "    width = swidth*(xmax - xmin)\n",
    "    x_left, x_right = middle - width, middle + width\n",
    "\n",
    "    # Array to store the output\n",
    "    output = zero(X)\n",
    "\n",
    "    ind_l = findall(x -> x > x_left && x <= middle, X)\n",
    "    ind_r = findall(x -> x < x_right && x > middle, X)\n",
    "\n",
    "    x_sl = (X[ind_l] .- x_left .- 0.5 * width) ./ (0.5 * width)\n",
    "    x_sl_k = copy(x_sl)\n",
    "    x_sl .= x_sl.^2\n",
    "    x_sr = (X[ind_r] .- middle .- 0.5 * width) ./ (0.5 * width)\n",
    "    x_sr_k = copy(x_sr)\n",
    "    x_sr .= x_sr.^2\n",
    "\n",
    "    cte = 0.0\n",
    "    for k in 0:reg\n",
    "        coeff = (-1)^k * binomial(reg, k) / (2 * k + 1)   # binomial is an inbuilt function in Julia\n",
    "        output[ind_l] .+= coeff .* x_sl_k\n",
    "        output[ind_r] .-= coeff .* x_sr_k\n",
    "        cte += coeff\n",
    "        x_sl_k .*= x_sl\n",
    "        x_sr_k .*= x_sr\n",
    "    end\n",
    "    output[ind_l] .+= cte\n",
    "    output[ind_r] .+= cte\n",
    "    output ./= 2 * cte\n",
    "\n",
    "    output\n",
    "end\n",
    "\n",
    "# Plot of an example of the initial condition\n",
    "plot(u_init(collect(LinRange(0,1,1000)), 4, 0.5, 0.1), legend=:false, c=:black)\n",
    "xlabel!(L\"x\")\n",
    "ylabel!(L\"u_0\")\n",
    "title!(\"Condition initiale\")"
   ]
  },
  {
   "cell_type": "code",
   "execution_count": null,
   "metadata": {},
   "outputs": [],
   "source": [
    "function animation(sol::AbstractMatrix; d::Real = 5, fps::Int = 30, Lmax::Real, Lmin::Real, T::Real, label::String = \"\")\n",
    "\n",
    "    # INPUTS\n",
    "    #   - sol       : Solution Matrix given by the dynamics function,\n",
    "    #   - d         : Duration wanted for the animation,\n",
    "    #   - fps       : Number of frame per secondes,\n",
    "    #   - Lmax      : Number of frame per secondes,\n",
    "    #   - Lmin      : Number of frame per secondes,\n",
    "    #   - T         : Final to time of the simulation to print the current physical time,\n",
    "\n",
    "    # OUTPUTS\n",
    "    #   - An animation of the solution through the time\n",
    "    \n",
    "    # Total frame\n",
    "    nbframe = fps * d\n",
    "  \n",
    "    # Time and space vector\n",
    "    Nₜ, Nₓ = size(sol)\n",
    "    time = range(0,1,Nₜ)\n",
    "    mesh = LinRange(Lmin,Lmax,Nₓ)\n",
    "    \n",
    "    # Constante to fix the yaxis\n",
    "    M = max(sol...)\n",
    "    m = min(sol...)\n",
    "\n",
    "    anim = @animate for n in 1:nbframe\n",
    "        # Actual frame\n",
    "        t = n / (fps*d)\n",
    "        # Interpolation\n",
    "        interp= [linear_interpolation(time, sol[:,i])(t) for i in 1:Nₓ]\n",
    "        # Plots\n",
    "        plot(mesh, interp, ylim = [m*1.1^(m),M*1.1^(M)], c = :black, label = label)\n",
    "        xlabel!(L\"x\")\n",
    "        ylabel!(L\"u\")\n",
    "        title!(\"t = \"*string(round(t*T; digits = 3)))\n",
    "    end\n",
    "  \n",
    "    gif(anim, fps = fps)\n",
    "  end"
   ]
  },
  {
   "cell_type": "markdown",
   "metadata": {},
   "source": [
    "## **Exercice 1 : Equation d'advection**"
   ]
  },
  {
   "cell_type": "code",
   "execution_count": null,
   "metadata": {},
   "outputs": [],
   "source": [
    "# Advection\n",
    "advection(u::Real, c::Real) = c*u"
   ]
  },
  {
   "cell_type": "markdown",
   "metadata": {},
   "source": [
    "### **Condition périodique**"
   ]
  },
  {
   "cell_type": "code",
   "execution_count": null,
   "metadata": {},
   "outputs": [],
   "source": [
    "# Initial condition\n",
    "center = -0.25\n",
    "width = 0.125\n",
    "u₀fun(x) = u_init(x, 2, center, width )   # regularity 2, center in -0.25 and with a witdh of 0.125 of the length of the domain\n",
    "\n",
    "# Parameters\n",
    "xmax = 0.5\n",
    "xmin = -0.5\n",
    "c = 0.5\n",
    "Tf = 1.0   # the condition to not touch the edge of the domain is Tf < [0.5-(-0.25+0.125)]/0.5 = 1.25\n",
    "Nₓ = 256\n",
    "Nₜ = 256\n",
    "s = 1.9\n",
    "mesh = LinRange(xmin,xmax,Nₓ)\n",
    "\n",
    "# Resolution\n",
    "sol = solve(u₀fun, x -> advection(x, c); Nₜ = Nₜ, T = Tf, Nₓ = Nₓ, xmax = xmax, xmin = xmin, s = s)\n",
    "\n",
    "# Exact solution\n",
    "sol_exact = u₀fun(mesh .- c*Tf)\n",
    "\n",
    "# Plot\n",
    "plot(mesh, sol[1,:], label =\"init\", size = (900,400), c=:black)\n",
    "plot!(mesh, sol_exact, label =\"exact\")\n",
    "scatter!(mesh, sol[end,:], label = \"D1Q2\", markershape=:circle, ma = 0.5, mc = :purple)\n",
    "xlabel!(L\"x\")\n",
    "ylabel!(L\"u\")\n",
    "title!(\"Solution de l'équation d'advection par D1Q2\")"
   ]
  },
  {
   "cell_type": "markdown",
   "metadata": {},
   "source": [
    "### **Bounce back**"
   ]
  },
  {
   "cell_type": "markdown",
   "metadata": {},
   "source": [
    "### **Anti - Bounce back**"
   ]
  },
  {
   "cell_type": "markdown",
   "metadata": {},
   "source": [
    "### **Copy Condition**"
   ]
  },
  {
   "cell_type": "markdown",
   "metadata": {},
   "source": [
    "### **Condition sortante**"
   ]
  },
  {
   "cell_type": "markdown",
   "metadata": {},
   "source": [
    "## **Exercice 2 : Equation de Burgers**"
   ]
  }
 ],
 "metadata": {
  "kernelspec": {
   "display_name": "Julia 1.8.5",
   "language": "julia",
   "name": "julia-1.8"
  },
  "language_info": {
   "file_extension": ".jl",
   "mimetype": "application/julia",
   "name": "julia",
   "version": "1.8.5"
  }
 },
 "nbformat": 4,
 "nbformat_minor": 2
}
